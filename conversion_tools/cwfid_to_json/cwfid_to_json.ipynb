{
 "cells": [
  {
   "cell_type": "code",
   "execution_count": 5,
   "metadata": {},
   "outputs": [
    {
     "name": "stdout",
     "output_type": "stream",
     "text": [
      "/Users/hlyd4326/Documents/sih_projects/Weed-ID-Interchange/conversion_tools/cwfid_to_json\n"
     ]
    }
   ],
   "source": [
    "print(cwfid_path)"
   ]
  },
  {
   "cell_type": "code",
   "execution_count": 4,
   "metadata": {},
   "outputs": [],
   "source": [
    "# %load_ext nb_black\n",
    "\n",
    "import yaml\n",
    "import pandas as pd\n",
    "import pathlib\n",
    "import uuid\n",
    "import json\n",
    "import time\n",
    "import datetime\n",
    "from tqdm import tqdm\n",
    "import humanfriendly\n",
    "import exifread\n",
    "import sys\n",
    "import os\n",
    "import PIL\n",
    "from PIL import Image\n",
    "\n",
    "cwfid_path = pathlib.Path(os.path.realpath('../cwfid_to_json/'))\n",
    "\n",
    "input_metadata_file = cwfid_path / \"labels.csv\"\n",
    "output_file = cwfid_path / \"cwfid_imageinfo.json\"\n",
    "image_folder = cwfid_path / \"cwfid_images\"\n",
    "dir_name = \"cwfid\""
   ]
  },
  {
   "cell_type": "code",
   "execution_count": 5,
   "metadata": {},
   "outputs": [],
   "source": [
    "\n",
    "CATEGORY_MAP = {\n",
    "    # TODO: we need a spec for species unspecified, and we need a spec for species specified\n",
    "    'crop': {'common_name': 'carrot',\n",
    "             'species': 'daugus carota',\n",
    "             'eppo_taxon_code':'DAUCS',\n",
    "             'eppo_nontaxon_code':'3UMRC',\n",
    "             'role': 'crop',\n",
    "             'id': 0},\n",
    "    'weed': {'species': 'UNSPECIFIED',\n",
    "             'role': 'weed',\n",
    "             'id': 1}\n",
    "}\n",
    "\n",
    "def create_annotations(ann_blob, image_id, starting_idx):\n",
    "    annotations = []\n",
    "    for i, obj in enumerate(ann_blob['annotation'], starting_idx):\n",
    "        category = CATEGORY_MAP[obj['type']]\n",
    "        # a COCO polygon is just a sequence [[x1, y1, x2, y2, ...]]\n",
    "        if not isinstance(obj[\"points\"][\"x\"], list):\n",
    "            print(f\"Found invalid polygon for annotation of {ann_blob['filename']} with points {obj['points']}\")\n",
    "            continue\n",
    "        polygon = zip(obj[\"points\"][\"x\"], obj[\"points\"][\"y\"])\n",
    "        polygon = sum(polygon, ())  # flatten an iterable of tuples\n",
    "        polygon = [list(map(int, polygon))]\n",
    "        # TODO: parse this polygon with pycocotools.frPyObjects(polygon, im_height, im_width)\n",
    "        # then:\n",
    "        # * check that mask matches the stored images in cwfid, and that there is not an off-by-one error (due to indexing base)\n",
    "        # * get area and bbox for annotation object\n",
    "        annotations.append({\n",
    "            \"id\": i,\n",
    "            \"image_id\": image_id,\n",
    "            \"category_id\": category[\"id\"],\n",
    "            \"segmentation\": polygon,\n",
    "            \"iscrowd\": 0,\n",
    "            # something in pycocotools to do this\n",
    "            # \"area\": calculate_area(polygon),\n",
    "            # \"bbox\": ...\n",
    "        })\n",
    "    return annotations"
   ]
  },
  {
   "cell_type": "code",
   "execution_count": 6,
   "metadata": {},
   "outputs": [],
   "source": [
    "def get_image_dimensions(path):\n",
    "    if not os.path.isfile(path):\n",
    "        return None\n",
    "    # Retrieve image width and height\n",
    "    image = PIL.Image.open(path)\n",
    "    width, height = image.size\n",
    "    # Calculate resolution in pixels\n",
    "    resolution =  width*height\n",
    "    return {'width': width, 'height': height, 'resolution': resolution}"
   ]
  },
  {
   "cell_type": "code",
   "execution_count": 7,
   "metadata": {},
   "outputs": [
    {
     "name": "stderr",
     "output_type": "stream",
     "text": [
      "041_annotation.yaml: : 13it [00:00, 56.48it/s]"
     ]
    },
    {
     "name": "stdout",
     "output_type": "stream",
     "text": [
      "Found invalid polygon for annotation of 018_image.png with points {'x': 685.0, 'y': 200.0}\n",
      "Found invalid polygon for annotation of 009_image.png with points {'x': 457.0, 'y': 650.0}\n"
     ]
    },
    {
     "name": "stderr",
     "output_type": "stream",
     "text": [
      "020_annotation.yaml: : 60it [00:00, 63.58it/s]\n"
     ]
    }
   ],
   "source": [
    "missing_files = []\n",
    "categories = [\n",
    "    CATEGORY_MAP['crop'],\n",
    "    CATEGORY_MAP['weed']\n",
    "]\n",
    "agcontext = [    {\n",
    "    \"agcontext_id\": 0,\n",
    "    \"agcontext_name\":\"cwfid\",\n",
    "    \"crop_type\":\"root vegetable\",\n",
    "    \"crop_stage\":\"leaf development\",\n",
    "    \"location_continent\":\"Europe\",\n",
    "    \"location_country\":\"Germany\",\n",
    "    \"location_state\":\"Lower Saxony\",\n",
    "    \"upload_time\":datetime.datetime.now().strftime('%Y-%m-%d %H:%M:%S'),\n",
    "    \"camera_type\":\"JAI AD-130GE\",\n",
    "    \"camera_height\": 450,\n",
    "    \"camera_angle\":90,\n",
    "    \"camera_fov\":25,\n",
    "    \"emr_channels\": \"Red, NIR\",\n",
    "    \"url\":\"https://github.com/cwfid/dataset\"\n",
    "    }]\n",
    "\n",
    "license = [{\n",
    "    \"id\": 0,\n",
    "    \"license_name\": \"CC BY 4.0\",\n",
    "    \"license_fullname\": \"Creative Commons Attribution 4.0\",\n",
    "    \"license_version\": \"4.0\",\n",
    "    \"url\":\"https://creativecommons.org/licenses/by/4.0/\"\n",
    "}]\n",
    "info = [{\n",
    "    \"year\": 2015,\n",
    "    \"version\": 1,\n",
    "    \"description\": \"YAML annotations and PNG images converted into WeedCOCO\",\n",
    "    \"secondary_contributor\": \"Converted to WeedCOCO by Henry Lydecker\",\n",
    "    \"contributor\": \"Sebastian Haug\",\n",
    "    \"id\": 0\n",
    "}]  \n",
    "annotations = []\n",
    "images = []\n",
    "progress = tqdm((cwfid_path / \"annotations\").glob(\"*_annotation.yaml\"))\n",
    "for ann_path in progress:\n",
    "    progress.set_description(ann_path.name)\n",
    "    image_id = int(ann_path.name[:3])\n",
    "    ann_blob = yaml.safe_load(ann_path.open())\n",
    "    \n",
    "    image = {\n",
    "        \"id\": image_id,\n",
    "        \"file_name\": os.path.join(dir_name, ann_blob[\"filename\"]),\n",
    "        \"license\": 0,  # TODO\n",
    "        \"agdata_id\": 0,\n",
    "    }\n",
    "    dims = get_image_dimensions(image_folder / ann_blob[\"filename\"])\n",
    "    \n",
    "    if dims is None:\n",
    "        missing_files.append(image_folder / ann_blob[\"filename\"])\n",
    "    else:\n",
    "        image.update(dims)\n",
    "        \n",
    "    images.append(image)\n",
    "    \n",
    "    annotations.extend(create_annotations(ann_blob, image_id, starting_idx=len(annotations)))\n"
   ]
  },
  {
   "cell_type": "code",
   "execution_count": 8,
   "metadata": {},
   "outputs": [],
   "source": [
    "collections = [\n",
    "    # TODO: DCMI conformance\n",
    "    {\"author\": \"Haug, Sebastian and Ostermann, Jörn\",\n",
    "     \"title\": \"A Crop/Weed Field Image Dataset for the Evaluation of Computer Vision Based Precision Agriculture Tasks\",\n",
    "     \"year\": 2015,\n",
    "     \"identifier\": \"doi:10.1007/978-3-319-16220-1_8\",\n",
    "     \"rights\": \"All data is subject to copyright and may only be used for non-commercial research. In case of use please cite our publication.\",\n",
    "     \"accrual_policy\": \"Closed\",\n",
    "     \"id\": 0,\n",
    "    }\n",
    "]"
   ]
  },
  {
   "cell_type": "code",
   "execution_count": 9,
   "metadata": {},
   "outputs": [
    {
     "name": "stdout",
     "output_type": "stream",
     "text": [
      "[{'image_id': [2, 5, 6, 7, 8, 11, 12, 14, 16, 17, 18, 19, 20, 23, 24, 25, 27, 28, 31, 33, 34, 36, 37, 38, 40, 41, 42, 43, 45, 46, 49, 50, 51, 52, 53, 55, 56, 57, 58, 59], 'subset': 'train', 'collection_id': 0}, {'image_id': [1, 3, 4, 9, 10, 13, 15, 21, 22, 26, 28, 29, 30, 32, 35, 39, 44, 47, 48, 54, 60], 'subset': 'test', 'collection_id': 0}]\n"
     ]
    }
   ],
   "source": [
    "subset_path = cwfid_path / \"train_test_split.yaml\"\n",
    "with open(subset_path) as subset_file:\n",
    "    subsets = yaml.safe_load(subset_file)\n",
    "    \n",
    "    # TODO: iterate over value key pairs and create individual collection membership per image.\n",
    "    # TODO: refer to all annotations associated with an image?\n",
    "    collection_memberships = []\n",
    "    for key, value in subsets.items():\n",
    "        if key == 'train':\n",
    "            collection_memberships.append({\n",
    "                \"image_id\": value,\n",
    "                \"subset\": \"train\",\n",
    "                \"collection_id\": 0\n",
    "            }) \n",
    "        else:\n",
    "            collection_memberships.append({\n",
    "                \"image_id\": value,\n",
    "                \"subset\": \"test\",\n",
    "                \"collection_id\": 0\n",
    "            }) \n",
    "print(collection_memberships)\n"
   ]
  },
  {
   "cell_type": "code",
   "execution_count": 10,
   "metadata": {},
   "outputs": [],
   "source": [
    "\"\"\"Write output\"\"\"\n",
    "with output_file.open('w') as fout:\n",
    "    json.dump({\n",
    "               \"images\": images,\n",
    "               \"annotations\": annotations,\n",
    "               \"categories\": categories,\n",
    "               \"info\": info,\n",
    "               \"license\":license,\n",
    "               \"agcontext\": agcontext,\n",
    "               \"collections\": collections,\n",
    "               \"collection_memberships\": collection_memberships},\n",
    "              fout, indent=4)"
   ]
  },
  {
   "cell_type": "code",
   "execution_count": 46,
   "metadata": {},
   "outputs": [],
   "source": [
    "!pbcopy < $output_file"
   ]
  }
 ],
 "metadata": {
  "kernelspec": {
   "display_name": "Python 3",
   "language": "python",
   "name": "python3"
  },
  "language_info": {
   "codemirror_mode": {
    "name": "ipython",
    "version": 3
   },
   "file_extension": ".py",
   "mimetype": "text/x-python",
   "name": "python",
   "nbconvert_exporter": "python",
   "pygments_lexer": "ipython3",
   "version": "3.7.7"
  },
  "varInspector": {
   "cols": {
    "lenName": 16,
    "lenType": 16,
    "lenVar": 40
   },
   "kernels_config": {
    "python": {
     "delete_cmd_postfix": "",
     "delete_cmd_prefix": "del ",
     "library": "var_list.py",
     "varRefreshCmd": "print(var_dic_list())"
    },
    "r": {
     "delete_cmd_postfix": ") ",
     "delete_cmd_prefix": "rm(",
     "library": "var_list.r",
     "varRefreshCmd": "cat(var_dic_list()) "
    }
   },
   "position": {
    "height": "144px",
    "left": "748px",
    "right": "20px",
    "top": "120px",
    "width": "350px"
   },
   "types_to_exclude": [
    "module",
    "function",
    "builtin_function_or_method",
    "instance",
    "_Feature"
   ],
   "window_display": false
  }
 },
 "nbformat": 4,
 "nbformat_minor": 4
}
